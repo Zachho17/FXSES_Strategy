{
 "cells": [
  {
   "cell_type": "code",
   "execution_count": 1,
   "id": "2d22fa76-f436-4614-a1ad-a83c63ce6bba",
   "metadata": {},
   "outputs": [],
   "source": [
    "def fxses(date, security):\n",
    "    x = dt.datetime.timestamp(dt.datetime.strptime(str(date), '%Y-%m-%d %H:%M:%S'))\n",
    "    element = dt.datetime.fromtimestamp(x).strftime('%Y-%m-%d')\n",
    "    y = dt.datetime.strptime(element, '%Y-%m-%d')\n",
    "    y_ts = dt.datetime.timestamp(y)\n",
    "\n",
    "    # above codes, capture and change current time to timestamp\n",
    "    # Convert the timestamp into YYYY-MM-DD format, in a way stripping the HH:MM:SS elements\n",
    "    # capture the timestamp of the stripped date data, it would arrive YYYY-MM-DD, 00:00:00\n",
    "    \n",
    "    if y.weekday() == 6: # if the date was a Sunday, refer 2 days back, which is Friday\n",
    "        tokyo_0 = y_ts - 172800 - 3600\n",
    "        tokyo_1 = y_ts - 172800 + 28800\n",
    "        london_0 = y_ts - 172800 + 25200\n",
    "        london_1 = y_ts - 172800 + 57600\n",
    "        newyork_0 = y_ts - 172800 + 43200\n",
    "        newyork_1 = y_ts - 172800 + 72000\n",
    "    elif y.weekday() == 0: # if the date was a Monday, refer 3 days back, which is Friday\n",
    "        tokyo_0 = y_ts - 259200 - 3600\n",
    "        tokyo_1 = y_ts - 259200 + 28800\n",
    "        london_0 = y_ts - 259200 + 25200\n",
    "        london_1 = y_ts - 259200 + 57600\n",
    "        newyork_0 = y_ts - 259200 + 43200\n",
    "        newyork_1 = y_ts - 259200 + 72000\n",
    "    else: \n",
    "        tokyo_0 = y_ts - 86400 - 3600\n",
    "        tokyo_1 = y_ts - 86400 + 28800\n",
    "        london_0 = y_ts - 86400 + 25200\n",
    "        london_1 = y_ts - 86400 + 57600\n",
    "        newyork_0 = y_ts - 86400 + 43200\n",
    "        newyork_1 = y_ts - 86400 + 72000\n",
    "        \n",
    "    # above using timestamp to segment out the timestamp for the respective hours of the previous day\n",
    "    # value of 1 represent 1 second, so convert to hours accordingly\n",
    "    \n",
    "    tokyo_b = dt.datetime.fromtimestamp(tokyo_0)\n",
    "    tokyo_e = dt.datetime.fromtimestamp(tokyo_1)\n",
    "    london_b = dt.datetime.fromtimestamp(london_0)\n",
    "    london_e = dt.datetime.fromtimestamp(london_1)\n",
    "    newyork_b = dt.datetime.fromtimestamp(newyork_0)\n",
    "    newyork_e = dt.datetime.fromtimestamp(newyork_1)\n",
    "    \n",
    "    # above convert the timestamp to datetime value\n",
    "    \n",
    "    tokyo_high = markets.loc[tokyo_b:tokyo_e]['MID_HIGH'].max()\n",
    "    tokyo_low = markets.loc[tokyo_b:tokyo_e]['MID_LOW'].min()\n",
    "    london_high = markets.loc[london_b:london_e]['MID_HIGH'].max()\n",
    "    london_low = markets.loc[london_b:london_e]['MID_LOW'].min()\n",
    "    newyork_high = markets.loc[newyork_b:newyork_e]['MID_HIGH'].max()\n",
    "    newyork_low = markets.loc[newyork_b:newyork_e]['MID_LOW'].min()\n",
    "    \n",
    "    # above using reuters API to capture the high & low in hourly interval\n",
    "    \n",
    "    if newyork_high > london_high > tokyo_high and newyork_low > london_low > tokyo_low:\n",
    "        return 'Long'\n",
    "    elif newyork_high < london_high < tokyo_high and newyork_low < london_low < tokyo_low:\n",
    "        return 'Short'\n",
    "    else: return False\n",
    "    \n",
    "    # above is the trading rule, the key in this whole exercise\n",
    "    # target to return trade signal, if neither criteria fulfilled, return False\n",
    "    # False indicating no trade\n",
    "    "
   ]
  },
  {
   "cell_type": "code",
   "execution_count": 2,
   "id": "34a43540-4b08-4d53-ab07-c04ed42ca42f",
   "metadata": {},
   "outputs": [],
   "source": [
    "def sameday(i):\n",
    "    \n",
    "    # converting the timestamp to datetime object and extract the date values\n",
    "    x = dt.datetime.strptime(str(markets.index[i-1]), '%Y-%m-%d %H:%M:%S').date()\n",
    "    y = dt.datetime.strptime(str(markets.index[i]), '%Y-%m-%d %H:%M:%S').date()\n",
    "    \n",
    "    # return true if it is the same date\n",
    "    return (x == y)"
   ]
  },
  {
   "cell_type": "code",
   "execution_count": 3,
   "id": "8d58c8b5-661b-4e0e-b14e-31c802567696",
   "metadata": {},
   "outputs": [],
   "source": [
    "import refinitiv.data as rd\n",
    "import datetime as dt\n",
    "import pandas as pd\n",
    "\n",
    "security = 'JPY='\n",
    "date_0 = '2022-12-01'\n",
    "date_1 = '2023-03-31'\n",
    "\n",
    "rd.open_session()\n",
    "markets = rd.get_history(universe=[security], fields=['MID_HIGH','MID_LOW'],\n",
    "                     interval=\"1h\", start=date_0, end=date_1\n",
    "                    )\n",
    "# input parameter to generate the market data"
   ]
  },
  {
   "cell_type": "code",
   "execution_count": 4,
   "id": "8756f54d-941c-4da5-946a-dc301382ffff",
   "metadata": {},
   "outputs": [
    {
     "name": "stdout",
     "output_type": "stream",
     "text": [
      "2022-12-06 00:00:00 Trade\n",
      "2022-12-08 00:00:00 Trade\n",
      "2022-12-13 00:00:00 Trade\n",
      "2022-12-16 00:00:00 Trade\n",
      "2022-12-19 00:00:00 Trade\n",
      "2022-12-21 00:00:00 Trade\n",
      "2022-12-30 00:00:00 Trade\n",
      "2023-01-02 00:00:00 Trade\n",
      "2023-01-13 00:00:00 Trade\n",
      "2023-01-31 00:00:00 Trade\n",
      "2023-02-07 00:00:00 Trade\n",
      "2023-02-08 00:00:00 Trade\n",
      "2023-02-16 00:00:00 Trade\n",
      "2023-02-27 00:00:00 Trade\n",
      "2023-03-06 00:00:00 Trade\n",
      "2023-03-20 00:00:00 Trade\n",
      "2023-03-22 00:00:00 Trade\n",
      "2023-03-28 00:00:00 Trade\n",
      "2023-03-30 00:00:00 Trade\n"
     ]
    }
   ],
   "source": [
    "# below to test out the logic\n",
    "# making sure the code run through all the data point\n",
    "# and FXSES is generating the correct signal for trade\n",
    "\n",
    "for i in range(24, len(markets)):\n",
    "    # if same day, next iteration (no results)\n",
    "    if sameday(i) == False:\n",
    "        if dt.datetime.strptime(str(markets.index[i]), '%Y-%m-%d %H:%M:%S').date().weekday() == 6: # a brute force way to resolve issue on weekend\n",
    "            continue # if same day and if Sat, next iteration (no results)\n",
    "                     # proceed to run FXSES if not same day and not weekends\n",
    "        elif fxses(markets.index[i], security) == False:\n",
    "            continue # next iteration if FXSES shows False (no results)\n",
    "        else: print(markets.index[i], 'Trade') # This is where the algo detect trading opp.\n",
    "    else: continue\n",
    "    "
   ]
  },
  {
   "cell_type": "code",
   "execution_count": 5,
   "id": "dc13d89b-3618-4814-876f-a2204680d801",
   "metadata": {},
   "outputs": [],
   "source": [
    "# based on FXSES signal, generate trade entry and check its accuracy\n",
    "\n",
    "entry_dict = {}\n",
    "\n",
    "for i in range(24, len(markets)):\n",
    "    if sameday(i) == False:\n",
    "        if dt.datetime.strptime(str(markets.index[i]), '%Y-%m-%d %H:%M:%S').date().weekday() == 6: # a brute force way to resolve issue on weekend\n",
    "            continue\n",
    "        elif fxses(markets.index[i], security) == False:\n",
    "            continue\n",
    "        elif fxses(markets.index[i], security) == 'Long':\n",
    "            entry_dict[markets.index[i]] = markets['MID_HIGH'][i]\n",
    "        elif fxses(markets.index[i], security) == 'Short':\n",
    "            entry_dict[markets.index[i]] = -markets['MID_LOW'][i]\n",
    "    else: continue"
   ]
  },
  {
   "cell_type": "code",
   "execution_count": 6,
   "id": "246ac65f-9403-4600-853a-4a38f55d1ed7",
   "metadata": {},
   "outputs": [
    {
     "data": {
      "text/plain": [
       "{Timestamp('2022-12-06 00:00:00'): 136.635,\n",
       " Timestamp('2022-12-08 00:00:00'): -136.265,\n",
       " Timestamp('2022-12-13 00:00:00'): 137.9,\n",
       " Timestamp('2022-12-16 00:00:00'): 137.79,\n",
       " Timestamp('2022-12-19 00:00:00'): -135.895,\n",
       " Timestamp('2022-12-21 00:00:00'): -131.495,\n",
       " Timestamp('2022-12-30 00:00:00'): -132.425,\n",
       " Timestamp('2023-01-02 00:00:00'): -130.925,\n",
       " Timestamp('2023-01-13 00:00:00'): -128.685,\n",
       " Timestamp('2023-01-31 00:00:00'): 130.505,\n",
       " Timestamp('2023-02-07 00:00:00'): 132.63,\n",
       " Timestamp('2023-02-08 00:00:00'): -130.725,\n",
       " Timestamp('2023-02-16 00:00:00'): 134.125,\n",
       " Timestamp('2023-02-27 00:00:00'): 136.56,\n",
       " Timestamp('2023-03-06 00:00:00'): -135.805,\n",
       " Timestamp('2023-03-20 00:00:00'): -132.195,\n",
       " Timestamp('2023-03-22 00:00:00'): 132.705,\n",
       " Timestamp('2023-03-28 00:00:00'): 131.245,\n",
       " Timestamp('2023-03-30 00:00:00'): 132.73}"
      ]
     },
     "metadata": {},
     "output_type": "display_data"
    }
   ],
   "source": [
    "display(entry_dict)"
   ]
  },
  {
   "cell_type": "code",
   "execution_count": 13,
   "id": "04ddb36f-87da-4e69-9c53-0141ee9f9d23",
   "metadata": {},
   "outputs": [],
   "source": [
    "# started off with no trade\n",
    "entry = 0\n",
    "SL = 0 \n",
    "TP = 0\n",
    "pnl = []\n",
    "trade = {}\n",
    "\n",
    "for i in range(24, len(markets)): # if no trade\n",
    "    if entry == 0:\n",
    "        if sameday(i) == False:\n",
    "            if dt.datetime.strptime(str(markets.index[i]), '%Y-%m-%d %H:%M:%S').date().weekday() == 6: # a brute force way to resolve issue on weekend\n",
    "                continue\n",
    "            elif fxses(markets.index[i], security) == False:\n",
    "                continue\n",
    "            elif fxses(markets.index[i], security) == 'Long':\n",
    "                entry = markets['MID_HIGH'][i]\n",
    "                SL = markets['MID_LOW'][i]\n",
    "                TP = entry + (entry - SL)\n",
    "                trade[markets.index[i]] = entry\n",
    "            elif fxses(markets.index[i], security) == 'Short':\n",
    "                entry = -markets['MID_LOW'][i]\n",
    "                SL = markets['MID_HIGH'][i]\n",
    "                TP = -entry + (-entry - SL)\n",
    "                trade[markets.index[i]] = entry\n",
    "        else: continue\n",
    "    elif entry > 0: # if long\n",
    "        if markets['MID_HIGH'][i] >= TP:\n",
    "            pnl.append(markets['MID_HIGH'][i] - entry)\n",
    "            entry = 0\n",
    "            SL = 0\n",
    "            TP = 0\n",
    "            continue\n",
    "        elif markets['MID_LOW'][i] <= SL:\n",
    "            pnl.append(markets['MID_LOW'][i] - entry)\n",
    "            entry = 0\n",
    "            SL = 0\n",
    "            TP = 0\n",
    "            continue\n",
    "        else: continue\n",
    "    elif entry < 0: # if short\n",
    "        if markets['MID_HIGH'][i] >= SL:\n",
    "            pnl.append(-entry - markets['MID_HIGH'][i])\n",
    "            entry = 0\n",
    "            SL = 0\n",
    "            TP = 0\n",
    "            continue\n",
    "        elif markets['MID_LOW'][i] <= TP:\n",
    "            pnl.append(-entry - markets['MID_LOW'][i])\n",
    "            entry = 0\n",
    "            SL = 0\n",
    "            TP = 0\n",
    "            continue\n",
    "        else: continue\n",
    "    else: continue\n",
    "        "
   ]
  },
  {
   "cell_type": "code",
   "execution_count": 14,
   "id": "0623b5e4-2c6d-4571-abf9-7a8590ee9e60",
   "metadata": {},
   "outputs": [
    {
     "data": {
      "text/plain": [
       "{Timestamp('2022-12-06 00:00:00'): 136.635,\n",
       " Timestamp('2022-12-08 00:00:00'): -136.265,\n",
       " Timestamp('2022-12-13 00:00:00'): 137.9,\n",
       " Timestamp('2022-12-16 00:00:00'): 137.79,\n",
       " Timestamp('2022-12-19 00:00:00'): -135.895,\n",
       " Timestamp('2022-12-21 00:00:00'): -131.495,\n",
       " Timestamp('2022-12-30 00:00:00'): -132.425,\n",
       " Timestamp('2023-01-02 00:00:00'): -130.925,\n",
       " Timestamp('2023-01-13 00:00:00'): -128.685,\n",
       " Timestamp('2023-01-31 00:00:00'): 130.505,\n",
       " Timestamp('2023-02-07 00:00:00'): 132.63,\n",
       " Timestamp('2023-02-08 00:00:00'): -130.725,\n",
       " Timestamp('2023-02-16 00:00:00'): 134.125,\n",
       " Timestamp('2023-02-27 00:00:00'): 136.56,\n",
       " Timestamp('2023-03-06 00:00:00'): -135.805,\n",
       " Timestamp('2023-03-20 00:00:00'): -132.195,\n",
       " Timestamp('2023-03-22 00:00:00'): 132.705,\n",
       " Timestamp('2023-03-28 00:00:00'): 131.245,\n",
       " Timestamp('2023-03-30 00:00:00'): 132.73}"
      ]
     },
     "metadata": {},
     "output_type": "display_data"
    }
   ],
   "source": [
    "display(trade)"
   ]
  },
  {
   "cell_type": "code",
   "execution_count": 17,
   "id": "7bc04ba1-9a23-440e-b413-b40912e32e8b",
   "metadata": {},
   "outputs": [
    {
     "data": {
      "text/plain": [
       "[0.5400000000000205,\n",
       " -0.7800000000000011,\n",
       " -0.575000000000017,\n",
       " -0.49500000000000455,\n",
       " -0.8499999999999943,\n",
       " -0.8199999999999932,\n",
       " 0.710000000000008,\n",
       " 0.160000000000025,\n",
       " -0.6699999999999875,\n",
       " -0.4000000000000057,\n",
       " -0.3949999999999818,\n",
       " -0.5150000000000148,\n",
       " -0.4900000000000091,\n",
       " -0.4650000000000034,\n",
       " 0.4350000000000023,\n",
       " -0.46000000000000796,\n",
       " -0.45000000000001705,\n",
       " -0.6800000000000068,\n",
       " -0.375]"
      ]
     },
     "metadata": {},
     "output_type": "display_data"
    }
   ],
   "source": [
    "display(pnl)"
   ]
  },
  {
   "cell_type": "code",
   "execution_count": 12,
   "id": "ef74dcd4-c915-409b-8234-3ee3e64e9aaa",
   "metadata": {},
   "outputs": [
    {
     "name": "stdout",
     "output_type": "stream",
     "text": [
      "19\n"
     ]
    }
   ],
   "source": []
  },
  {
   "cell_type": "code",
   "execution_count": null,
   "id": "d3f5bc48-2d26-454c-bdfd-6984301fba89",
   "metadata": {},
   "outputs": [],
   "source": []
  }
 ],
 "metadata": {
  "kernelspec": {
   "display_name": "Python 3",
   "language": "python",
   "name": "python3"
  },
  "language_info": {
   "codemirror_mode": {
    "name": "ipython",
    "version": 3
   },
   "file_extension": ".py",
   "mimetype": "text/x-python",
   "name": "python",
   "nbconvert_exporter": "python",
   "pygments_lexer": "ipython3",
   "version": "3.8.15"
  },
  "widgets": {
   "application/vnd.jupyter.widget-state+json": {
    "state": {},
    "version_major": 2,
    "version_minor": 0
   }
  }
 },
 "nbformat": 4,
 "nbformat_minor": 5
}
