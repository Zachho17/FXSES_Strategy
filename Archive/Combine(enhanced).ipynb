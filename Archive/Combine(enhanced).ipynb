{
 "cells": [
  {
   "cell_type": "code",
   "execution_count": 1,
   "id": "2d22fa76-f436-4614-a1ad-a83c63ce6bba",
   "metadata": {},
   "outputs": [],
   "source": [
    "def fxses(date, security):\n",
    "    x = dt.datetime.timestamp(dt.datetime.strptime(str(date), '%Y-%m-%d %H:%M:%S'))\n",
    "    element = dt.datetime.fromtimestamp(x).strftime('%Y-%m-%d')\n",
    "    y = dt.datetime.strptime(element, '%Y-%m-%d')\n",
    "    y_ts = dt.datetime.timestamp(y)\n",
    "\n",
    "    # above codes, capture and change current time to timestamp\n",
    "    # Convert the timestamp into YYYY-MM-DD format, in a way stripping the HH:MM:SS elements\n",
    "    # capture the timestamp of the stripped date data, it would arrive YYYY-MM-DD, 00:00:00\n",
    "    \n",
    "    if y.weekday() == 6: # if the date was a Sunday, refer 2 days back, which is Friday\n",
    "        tokyo_0 = y_ts - 172800 - 3600\n",
    "        tokyo_1 = y_ts - 172800 + 28800\n",
    "        london_0 = y_ts - 172800 + 25200\n",
    "        london_1 = y_ts - 172800 + 57600\n",
    "        newyork_0 = y_ts - 172800 + 43200\n",
    "        newyork_1 = y_ts - 172800 + 72000\n",
    "    elif y.weekday() == 0: # if the date was a Monday, refer 3 days back, which is Friday\n",
    "        tokyo_0 = y_ts - 259200 - 3600\n",
    "        tokyo_1 = y_ts - 259200 + 28800\n",
    "        london_0 = y_ts - 259200 + 25200\n",
    "        london_1 = y_ts - 259200 + 57600\n",
    "        newyork_0 = y_ts - 259200 + 43200\n",
    "        newyork_1 = y_ts - 259200 + 72000\n",
    "    else: \n",
    "        tokyo_0 = y_ts - 86400 - 3600\n",
    "        tokyo_1 = y_ts - 86400 + 28800\n",
    "        london_0 = y_ts - 86400 + 25200\n",
    "        london_1 = y_ts - 86400 + 57600\n",
    "        newyork_0 = y_ts - 86400 + 43200\n",
    "        newyork_1 = y_ts - 86400 + 72000\n",
    "        \n",
    "    # above using timestamp to segment out the timestamp for the respective hours of the previous day\n",
    "    # value of 1 represent 1 second, so convert to hours accordingly\n",
    "    \n",
    "    tokyo_b = dt.datetime.fromtimestamp(tokyo_0)\n",
    "    tokyo_e = dt.datetime.fromtimestamp(tokyo_1)\n",
    "    london_b = dt.datetime.fromtimestamp(london_0)\n",
    "    london_e = dt.datetime.fromtimestamp(london_1)\n",
    "    newyork_b = dt.datetime.fromtimestamp(newyork_0)\n",
    "    newyork_e = dt.datetime.fromtimestamp(newyork_1)\n",
    "    \n",
    "    # above convert the timestamp to datetime value\n",
    "    \n",
    "    tokyo_high = markets.loc[tokyo_b:tokyo_e]['MID_HIGH'].max()\n",
    "    tokyo_low = markets.loc[tokyo_b:tokyo_e]['MID_LOW'].min()\n",
    "    london_high = markets.loc[london_b:london_e]['MID_HIGH'].max()\n",
    "    london_low = markets.loc[london_b:london_e]['MID_LOW'].min()\n",
    "    newyork_high = markets.loc[newyork_b:newyork_e]['MID_HIGH'].max()\n",
    "    newyork_low = markets.loc[newyork_b:newyork_e]['MID_LOW'].min()\n",
    "    \n",
    "    # above using reuters API to capture the high & low in hourly interval\n",
    "    \n",
    "    if newyork_high > london_high > tokyo_high and newyork_low > london_low > tokyo_low:\n",
    "        trade = True\n",
    "        direction = 'long'\n",
    "        return trade, direction, london_high, london_low\n",
    "    elif newyork_high < london_high < tokyo_high and newyork_low < london_low < tokyo_low:\n",
    "        trade = True\n",
    "        direction = 'short'\n",
    "        return trade, direction, london_high, london_low\n",
    "    else: \n",
    "        trade = False\n",
    "        direction = 'N/A'\n",
    "        return trade, direction, london_high, london_low\n",
    "    \n",
    "    # above is the trading rule, the key in this whole exercise\n",
    "    # target to return trade signal, if neither criteria fulfilled, return False\n",
    "    # False indicating no trade\n",
    "    "
   ]
  },
  {
   "cell_type": "code",
   "execution_count": 2,
   "id": "34a43540-4b08-4d53-ab07-c04ed42ca42f",
   "metadata": {},
   "outputs": [],
   "source": [
    "def sameday(i):\n",
    "    \n",
    "    # converting the timestamp to datetime object and extract the date values\n",
    "    x = dt.datetime.strptime(str(markets.index[i-1]), '%Y-%m-%d %H:%M:%S').date()\n",
    "    y = dt.datetime.strptime(str(markets.index[i]), '%Y-%m-%d %H:%M:%S').date()\n",
    "    \n",
    "    # return true if it is the same date\n",
    "    return (x == y)"
   ]
  },
  {
   "cell_type": "code",
   "execution_count": 3,
   "id": "8d58c8b5-661b-4e0e-b14e-31c802567696",
   "metadata": {},
   "outputs": [],
   "source": [
    "import refinitiv.data as rd\n",
    "import datetime as dt\n",
    "import pandas as pd\n",
    "\n",
    "security = 'GBPNZD='\n",
    "date_0 = '2023-02-01'\n",
    "date_1 = '2023-12-01'\n",
    "\n",
    "rd.open_session()\n",
    "markets = rd.get_history(universe=[security], fields=['MID_HIGH','MID_LOW'],\n",
    "                     interval=\"1h\", start=date_0, end=date_1\n",
    "                    )\n",
    "# input parameter to generate the market data"
   ]
  },
  {
   "cell_type": "code",
   "execution_count": 4,
   "id": "04ddb36f-87da-4e69-9c53-0141ee9f9d23",
   "metadata": {},
   "outputs": [],
   "source": [
    "# started off with no trade\n",
    "entry = 0\n",
    "SL = 0 \n",
    "TP = 0\n",
    "pnl = []\n",
    "trade_entry = {}\n",
    "\n",
    "for i in range(24, len(markets)): \n",
    "    if entry == 0: # if no trade\n",
    "        trade, direction, high, low = fxses(markets.index[i], security)\n",
    "        if sameday(i) == False:\n",
    "            if dt.datetime.strptime(str(markets.index[i]), '%Y-%m-%d %H:%M:%S').date().weekday() == 6: # a brute force way to resolve issue on weekend\n",
    "                continue\n",
    "            elif trade == False:\n",
    "                continue\n",
    "            elif direction == 'long':\n",
    "                entry = markets['MID_HIGH'][i]\n",
    "                SL = low\n",
    "                TP = entry + (entry - SL)\n",
    "                trade_entry[markets.index[i]] = entry\n",
    "            elif direction == 'short':\n",
    "                entry = -markets['MID_LOW'][i]\n",
    "                SL = high\n",
    "                TP = -entry + (-entry - SL)\n",
    "                trade_entry[markets.index[i]] = entry\n",
    "        else: continue\n",
    "    elif entry > 0: # if long\n",
    "        if markets['MID_HIGH'][i] >= TP:\n",
    "            pnl.append(markets['MID_HIGH'][i] - entry)\n",
    "            entry = 0\n",
    "            SL = 0\n",
    "            TP = 0\n",
    "            continue\n",
    "        elif markets['MID_LOW'][i] <= SL:\n",
    "            pnl.append(markets['MID_LOW'][i] - entry)\n",
    "            entry = 0\n",
    "            SL = 0\n",
    "            TP = 0\n",
    "            continue\n",
    "        else: continue\n",
    "    elif entry < 0: # if short\n",
    "        if markets['MID_HIGH'][i] >= SL:\n",
    "            pnl.append(-entry - markets['MID_HIGH'][i])\n",
    "            entry = 0\n",
    "            SL = 0\n",
    "            TP = 0\n",
    "            continue\n",
    "        elif markets['MID_LOW'][i] <= TP:\n",
    "            pnl.append(-entry - markets['MID_LOW'][i])\n",
    "            entry = 0\n",
    "            SL = 0\n",
    "            TP = 0\n",
    "            continue\n",
    "        else: continue\n",
    "    else: continue\n",
    "        "
   ]
  },
  {
   "cell_type": "code",
   "execution_count": 5,
   "id": "0623b5e4-2c6d-4571-abf9-7a8590ee9e60",
   "metadata": {},
   "outputs": [
    {
     "data": {
      "text/plain": [
       "{Timestamp('2023-02-13 00:00:00'): -1.9092,\n",
       " Timestamp('2023-02-20 00:00:00'): 1.9299,\n",
       " Timestamp('2023-02-22 00:00:00'): 1.9522,\n",
       " Timestamp('2023-03-06 00:00:00'): 1.9374,\n",
       " Timestamp('2023-03-10 00:00:00'): 1.955,\n",
       " Timestamp('2023-03-27 00:00:00'): 1.9739,\n",
       " Timestamp('2023-03-29 00:00:00'): -1.969,\n",
       " Timestamp('2023-04-12 00:00:00'): 2.0077,\n",
       " Timestamp('2023-04-14 00:00:00'): -1.9845,\n",
       " Timestamp('2023-04-27 00:00:00'): 2.0392,\n",
       " Timestamp('2023-05-04 00:00:00'): 2.0248,\n",
       " Timestamp('2023-05-05 00:00:00'): -1.999,\n",
       " Timestamp('2023-05-23 00:00:00'): -1.9747,\n",
       " Timestamp('2023-05-29 00:00:00'): 2.0394,\n",
       " Timestamp('2023-06-08 00:00:00'): 2.05995,\n",
       " Timestamp('2023-06-13 00:00:00'): -2.0422,\n",
       " Timestamp('2023-07-06 00:00:00'): 2.0568,\n",
       " Timestamp('2023-07-24 00:00:00'): 2.085,\n",
       " Timestamp('2023-07-27 00:00:00'): 2.0818,\n",
       " Timestamp('2023-08-01 00:00:00'): -2.0643,\n",
       " Timestamp('2023-08-16 00:00:00'): 2.1376,\n",
       " Timestamp('2023-09-05 00:00:00'): 2.12825,\n",
       " Timestamp('2023-10-10 00:00:00'): -2.0294,\n",
       " Timestamp('2023-10-17 00:00:00'): 2.0708,\n",
       " Timestamp('2023-10-24 00:00:00'): 2.095,\n",
       " Timestamp('2023-10-25 00:00:00'): -2.0759,\n",
       " Timestamp('2023-11-02 00:00:00'): -2.0695,\n",
       " Timestamp('2023-11-16 00:00:00'): -2.0605,\n",
       " Timestamp('2023-11-17 00:00:00'): 2.0833,\n",
       " Timestamp('2023-11-28 00:00:00'): -2.0696}"
      ]
     },
     "metadata": {},
     "output_type": "display_data"
    }
   ],
   "source": [
    "display(trade_entry)"
   ]
  },
  {
   "cell_type": "code",
   "execution_count": 6,
   "id": "7bc04ba1-9a23-440e-b413-b40912e32e8b",
   "metadata": {},
   "outputs": [
    {
     "data": {
      "text/plain": [
       "[0.008799999999999919,\n",
       " 0.01100000000000012,\n",
       " -0.030000000000000027,\n",
       " 0.017800000000000038,\n",
       " 0.020999999999999908,\n",
       " 0.009500000000000064,\n",
       " -0.01089999999999991,\n",
       " -0.018699999999999717,\n",
       " -0.0250999999999999,\n",
       " -0.013600000000000279,\n",
       " -0.02110000000000012,\n",
       " 0.017400000000000082,\n",
       " -0.011300000000000088,\n",
       " 0.011400000000000077,\n",
       " -0.018450000000000077,\n",
       " -0.01695000000000002,\n",
       " -0.008799999999999919,\n",
       " -0.017199999999999882,\n",
       " -0.012299999999999756,\n",
       " -0.015500000000000291,\n",
       " 0.01540000000000008,\n",
       " 0.011150000000000215,\n",
       " -0.015600000000000058,\n",
       " 0.020299999999999763,\n",
       " -0.009300000000000086,\n",
       " -0.020199999999999996,\n",
       " -0.021999999999999797,\n",
       " -0.013599999999999834,\n",
       " -0.01839999999999975,\n",
       " 0.018100000000000005]"
      ]
     },
     "metadata": {},
     "output_type": "display_data"
    }
   ],
   "source": [
    "display(pnl)"
   ]
  },
  {
   "cell_type": "code",
   "execution_count": 7,
   "id": "ef74dcd4-c915-409b-8234-3ee3e64e9aaa",
   "metadata": {},
   "outputs": [
    {
     "name": "stdout",
     "output_type": "stream",
     "text": [
      "accumulated 30 trades with the profit and loss of -0.15714999999999923\n"
     ]
    }
   ],
   "source": [
    "total_pnl = sum(pnl)\n",
    "No_trades = len(trade_entry)\n",
    "\n",
    "\n",
    "print(f'accumulated {No_trades} trades with the profit and loss of {total_pnl}')"
   ]
  },
  {
   "cell_type": "code",
   "execution_count": null,
   "id": "d3f5bc48-2d26-454c-bdfd-6984301fba89",
   "metadata": {},
   "outputs": [],
   "source": []
  }
 ],
 "metadata": {
  "kernelspec": {
   "display_name": "Python 3",
   "language": "python",
   "name": "python3"
  },
  "language_info": {
   "codemirror_mode": {
    "name": "ipython",
    "version": 3
   },
   "file_extension": ".py",
   "mimetype": "text/x-python",
   "name": "python",
   "nbconvert_exporter": "python",
   "pygments_lexer": "ipython3",
   "version": "3.8.15"
  },
  "widgets": {
   "application/vnd.jupyter.widget-state+json": {
    "state": {},
    "version_major": 2,
    "version_minor": 0
   }
  }
 },
 "nbformat": 4,
 "nbformat_minor": 5
}
